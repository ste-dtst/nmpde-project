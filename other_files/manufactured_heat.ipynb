{
 "cells": [
  {
   "cell_type": "code",
   "execution_count": null,
   "metadata": {},
   "outputs": [
    {
     "ename": "",
     "evalue": "",
     "output_type": "error",
     "traceback": [
      "\u001b[1;31mRunning cells with '.venv (Python 3.8.10)' requires the ipykernel package.\n",
      "\u001b[1;31mRun the following command to install 'ipykernel' into the Python environment. \n",
      "\u001b[1;31mCommand: '\"/home/ste-dtst/Dropbox/Metodi per PDE/.venv/bin/python\" -m pip install ipykernel -U --force-reinstall'"
     ]
    }
   ],
   "source": [
    "from sympy import *\n",
    "\n",
    "x, y, t = symbols('x y t')\n",
    "\n",
    "# Define the function\n",
    "u = exp(-2* ( (x-0.5*cos(pi*(t+0.5)))*(x-0.5*cos(pi*(t+0.5))) + (y-0.5*sin(pi*(t+0.5)))*(y-0.5*sin(pi*(t+0.5))) ) )\n",
    "\n",
    "# Compute the derivatives\n",
    "u_t = diff(u, t)\n",
    "u_x = diff(u, x)\n",
    "u_xx = diff(u_x, x)\n",
    "u_y = diff(u, y)\n",
    "u_yy = diff(u_y, y)\n",
    "\n",
    "# Compute the right hand side of the PDE\n",
    "f = str(u_t - u_xx - u_yy)\n",
    "f = f.replace(\"**\", \"^\")\n",
    "print(f)"
   ]
  }
 ],
 "metadata": {
  "kernelspec": {
   "display_name": "base",
   "language": "python",
   "name": "python3"
  },
  "language_info": {
   "codemirror_mode": {
    "name": "ipython",
    "version": 3
   },
   "file_extension": ".py",
   "mimetype": "text/x-python",
   "name": "python",
   "nbconvert_exporter": "python",
   "pygments_lexer": "ipython3",
   "version": "3.8.10"
  }
 },
 "nbformat": 4,
 "nbformat_minor": 2
}
