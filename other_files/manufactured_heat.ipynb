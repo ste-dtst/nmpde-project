{
 "cells": [
  {
   "cell_type": "code",
   "execution_count": null,
   "metadata": {},
   "outputs": [
    {
     "ename": "",
     "evalue": "",
     "output_type": "error",
     "traceback": [
      "\u001b[1;31mRunning cells with '.venv (Python 3.8.10)' requires the ipykernel package.\n",
      "\u001b[1;31mRun the following command to install 'ipykernel' into the Python environment. \n",
      "\u001b[1;31mCommand: '\"/home/ste-dtst/Dropbox/Metodi per PDE/.venv/bin/python\" -m pip install ipykernel -U --force-reinstall'"
     ]
    }
   ],
   "source": [
    "# Manufactured solution helper for the heat equation in 1D, 2D, and 3D\n",
    "from sympy import *\n",
    "\n",
    "x, y, z, t = symbols('x y z t')\n",
    "\n",
    "# Set the dimension and define the function\n",
    "dim = 2\n",
    "u = exp(-2* ( (x-0.5*cos(pi*(t+0.5)))*(x-0.5*cos(pi*(t+0.5))) + (y-0.5*sin(pi*(t+0.5)))*(y-0.5*sin(pi*(t+0.5))) ) )\n",
    "\n",
    "# Compute the derivatives and the right hand side of the PDE\n",
    "u_t = diff(u, t)\n",
    "if dim >= 1:\n",
    "    u_x = diff(u, x)\n",
    "    u_xx = diff(u_x, x)\n",
    "if dim >= 2:\n",
    "    u_y = diff(u, y)\n",
    "    u_yy = diff(u_y, y)\n",
    "if dim >= 3:\n",
    "    u_z = diff(u, z)\n",
    "    u_zz = diff(u_z, z)\n",
    "\n",
    "if dim == 1:\n",
    "    f = str(u_t - u_xx)\n",
    "elif dim == 2:\n",
    "    f = str(u_t - u_xx - u_yy)\n",
    "elif dim == 3:\n",
    "    f = str(u_t - u_xx - u_yy - u_zz)\n",
    "\n",
    "# Print the right hand side of the PDE\n",
    "f = f.replace(\"**\", \"^\")\n",
    "print(f)"
   ]
  }
 ],
 "metadata": {
  "kernelspec": {
   "display_name": "base",
   "language": "python",
   "name": "python3"
  },
  "language_info": {
   "codemirror_mode": {
    "name": "ipython",
    "version": 3
   },
   "file_extension": ".py",
   "mimetype": "text/x-python",
   "name": "python",
   "nbconvert_exporter": "python",
   "pygments_lexer": "ipython3",
   "version": "3.8.10"
  }
 },
 "nbformat": 4,
 "nbformat_minor": 2
}
